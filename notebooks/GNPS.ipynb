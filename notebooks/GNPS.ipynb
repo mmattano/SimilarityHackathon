{
 "cells": [
  {
   "cell_type": "markdown",
   "metadata": {},
   "source": [
    "### Data Visualization Notebook"
   ]
  },
  {
   "cell_type": "code",
   "execution_count": 81,
   "metadata": {},
   "outputs": [],
   "source": [
    "import os\n",
    "import numpy as np\n",
    "import matplotlib.pyplot as plt\n",
    "import pubchempy\n",
    "import pandas as pd\n",
    "from itertools import compress\n",
    "import seaborn as sns\n",
    "from matchms.importing import load_from_mgf\n",
    "\n",
    "from rdkit import Chem\n",
    "from rdkit.Chem import Draw\n",
    "\n",
    "\n",
    "from matchms import calculate_scores\n",
    "from matchms.plotting.spectrum_plots import plot_spectra_mirror, plot_spectrum\n",
    "\n",
    "\n",
    "from matplotlib import animation, rc\n",
    "from celluloid import Camera # getting the camera\n",
    "import matplotlib.pyplot as plt\n",
    "import numpy as np\n",
    "from IPython.display import HTML"
   ]
  },
  {
   "cell_type": "code",
   "execution_count": 82,
   "metadata": {},
   "outputs": [
    {
     "name": "stdout",
     "output_type": "stream",
     "text": [
      "Load reference and query data.\n",
      "Detected 12855 reference spectra and 1614 query spectra.\n"
     ]
    }
   ],
   "source": [
    "path_data = \"../data\"\n",
    "\n",
    "print(\"Load reference and query data.\")\n",
    "file_mgf_reference = os.path.join(path_data, \"GNPS-LIBRARY.mgf\")\n",
    "reference_spectra = list(load_from_mgf(file_mgf_reference))\n",
    "\n",
    "file_mgf_query = os.path.join(path_data, \"pseudo_query_neg_v1.mgf\")\n",
    "query_spectra = list(load_from_mgf(file_mgf_query))\n",
    "\n",
    "print(f\"Detected {len(reference_spectra)} reference spectra and {len(query_spectra)} query spectra.\")"
   ]
  },
  {
   "cell_type": "markdown",
   "metadata": {},
   "source": [
    "#### Metadata"
   ]
  },
  {
   "cell_type": "code",
   "execution_count": 83,
   "metadata": {},
   "outputs": [],
   "source": [
    "# Treat Libraries in pandas DataFrames\n",
    "Q = pd.DataFrame({\"spectrum\": query_spectra, \"library\": \"query\"})\n",
    "R = pd.DataFrame({\"spectrum\": reference_spectra, \"library\": \"reference\"})\n",
    "\n",
    "\n",
    "def extract_metadata(df, keys):\n",
    "    for key in keys:\n",
    "        df[key] = df[\"spectrum\"].apply(lambda x: x.get(key))\n",
    "    \n",
    "\n",
    "extract_metadata(Q, Q[\"spectrum\"][0].metadata.keys())\n",
    "extract_metadata(R, R[\"spectrum\"][0].metadata.keys())\n",
    "M = pd.concat([Q, R])\n",
    "\n"
   ]
  },
  {
   "cell_type": "code",
   "execution_count": 84,
   "metadata": {},
   "outputs": [
    {
     "data": {
      "text/html": [
       "<div>\n",
       "<style scoped>\n",
       "    .dataframe tbody tr th:only-of-type {\n",
       "        vertical-align: middle;\n",
       "    }\n",
       "\n",
       "    .dataframe tbody tr th {\n",
       "        vertical-align: top;\n",
       "    }\n",
       "\n",
       "    .dataframe thead th {\n",
       "        text-align: right;\n",
       "    }\n",
       "</style>\n",
       "<table border=\"1\" class=\"dataframe\">\n",
       "  <thead>\n",
       "    <tr style=\"text-align: right;\">\n",
       "      <th></th>\n",
       "      <th>spectrum</th>\n",
       "      <th>library</th>\n",
       "      <th>title</th>\n",
       "      <th>mslevel</th>\n",
       "      <th>scans</th>\n",
       "      <th>scanindex</th>\n",
       "      <th>centroided</th>\n",
       "      <th>polarity</th>\n",
       "      <th>precscannum</th>\n",
       "      <th>pepmass</th>\n",
       "      <th>...</th>\n",
       "      <th>basepeakmz</th>\n",
       "      <th>basepeakintensity</th>\n",
       "      <th>ionisationenergy</th>\n",
       "      <th>lowmz</th>\n",
       "      <th>highmz</th>\n",
       "      <th>injectiontime</th>\n",
       "      <th>feature_id</th>\n",
       "      <th>retention_time</th>\n",
       "      <th>collision_energy</th>\n",
       "      <th>precursor_mz</th>\n",
       "    </tr>\n",
       "  </thead>\n",
       "  <tbody>\n",
       "    <tr>\n",
       "      <th>0</th>\n",
       "      <td>&lt;matchms.Spectrum.Spectrum object at 0x2bd7725f0&gt;</td>\n",
       "      <td>query</td>\n",
       "      <td>msLevel 2; retentionTime ; scanNum</td>\n",
       "      <td>2</td>\n",
       "      <td>1</td>\n",
       "      <td>1</td>\n",
       "      <td>TRUE</td>\n",
       "      <td>0</td>\n",
       "      <td>1</td>\n",
       "      <td>(112.98553637, None)</td>\n",
       "      <td>...</td>\n",
       "      <td>68.99723544</td>\n",
       "      <td>656</td>\n",
       "      <td>0</td>\n",
       "      <td>68.99723544</td>\n",
       "      <td>68.99723544</td>\n",
       "      <td>0</td>\n",
       "      <td>FT1</td>\n",
       "      <td>247.3932</td>\n",
       "      <td>10</td>\n",
       "      <td>112.985536</td>\n",
       "    </tr>\n",
       "    <tr>\n",
       "      <th>1</th>\n",
       "      <td>&lt;matchms.Spectrum.Spectrum object at 0x2b5914670&gt;</td>\n",
       "      <td>query</td>\n",
       "      <td>msLevel 2; retentionTime ; scanNum</td>\n",
       "      <td>2</td>\n",
       "      <td>2</td>\n",
       "      <td>2</td>\n",
       "      <td>TRUE</td>\n",
       "      <td>0</td>\n",
       "      <td>2</td>\n",
       "      <td>(112.98557467, None)</td>\n",
       "      <td>...</td>\n",
       "      <td>45.00066804</td>\n",
       "      <td>268</td>\n",
       "      <td>0</td>\n",
       "      <td>45.00066804</td>\n",
       "      <td>45.00066804</td>\n",
       "      <td>0</td>\n",
       "      <td>FT2</td>\n",
       "      <td>377.1270</td>\n",
       "      <td>20</td>\n",
       "      <td>112.985575</td>\n",
       "    </tr>\n",
       "    <tr>\n",
       "      <th>2</th>\n",
       "      <td>&lt;matchms.Spectrum.Spectrum object at 0x2bd772650&gt;</td>\n",
       "      <td>query</td>\n",
       "      <td>msLevel 2; retentionTime ; scanNum</td>\n",
       "      <td>2</td>\n",
       "      <td>3</td>\n",
       "      <td>3</td>\n",
       "      <td>TRUE</td>\n",
       "      <td>0</td>\n",
       "      <td>3</td>\n",
       "      <td>(112.98557452, None)</td>\n",
       "      <td>...</td>\n",
       "      <td>44.99716261</td>\n",
       "      <td>314</td>\n",
       "      <td>0</td>\n",
       "      <td>44.99716261</td>\n",
       "      <td>44.99716261</td>\n",
       "      <td>0</td>\n",
       "      <td>FT3</td>\n",
       "      <td>258.8022</td>\n",
       "      <td>30</td>\n",
       "      <td>112.985575</td>\n",
       "    </tr>\n",
       "    <tr>\n",
       "      <th>3</th>\n",
       "      <td>&lt;matchms.Spectrum.Spectrum object at 0x2bd7726b0&gt;</td>\n",
       "      <td>query</td>\n",
       "      <td>msLevel 2; retentionTime ; scanNum</td>\n",
       "      <td>2</td>\n",
       "      <td>4</td>\n",
       "      <td>4</td>\n",
       "      <td>TRUE</td>\n",
       "      <td>0</td>\n",
       "      <td>4</td>\n",
       "      <td>(112.98552874, None)</td>\n",
       "      <td>...</td>\n",
       "      <td>44.99853363</td>\n",
       "      <td>266</td>\n",
       "      <td>0</td>\n",
       "      <td>44.99853363</td>\n",
       "      <td>44.99853363</td>\n",
       "      <td>0</td>\n",
       "      <td>FT4</td>\n",
       "      <td>278.4588</td>\n",
       "      <td>40</td>\n",
       "      <td>112.985529</td>\n",
       "    </tr>\n",
       "    <tr>\n",
       "      <th>4</th>\n",
       "      <td>&lt;matchms.Spectrum.Spectrum object at 0x2bd772830&gt;</td>\n",
       "      <td>query</td>\n",
       "      <td>msLevel 2; retentionTime ; scanNum</td>\n",
       "      <td>2</td>\n",
       "      <td>5</td>\n",
       "      <td>5</td>\n",
       "      <td>TRUE</td>\n",
       "      <td>0</td>\n",
       "      <td>5</td>\n",
       "      <td>(129.05574413, None)</td>\n",
       "      <td>...</td>\n",
       "      <td>129.05973069</td>\n",
       "      <td>220</td>\n",
       "      <td>0</td>\n",
       "      <td>129.05973069</td>\n",
       "      <td>519.2963068</td>\n",
       "      <td>0</td>\n",
       "      <td>FT5</td>\n",
       "      <td>172.1430</td>\n",
       "      <td>10</td>\n",
       "      <td>129.055744</td>\n",
       "    </tr>\n",
       "  </tbody>\n",
       "</table>\n",
       "<p>5 rows × 23 columns</p>\n",
       "</div>"
      ],
      "text/plain": [
       "                                            spectrum library  \\\n",
       "0  <matchms.Spectrum.Spectrum object at 0x2bd7725f0>   query   \n",
       "1  <matchms.Spectrum.Spectrum object at 0x2b5914670>   query   \n",
       "2  <matchms.Spectrum.Spectrum object at 0x2bd772650>   query   \n",
       "3  <matchms.Spectrum.Spectrum object at 0x2bd7726b0>   query   \n",
       "4  <matchms.Spectrum.Spectrum object at 0x2bd772830>   query   \n",
       "\n",
       "                                title mslevel scans scanindex centroided  \\\n",
       "0  msLevel 2; retentionTime ; scanNum       2     1         1       TRUE   \n",
       "1  msLevel 2; retentionTime ; scanNum       2     2         2       TRUE   \n",
       "2  msLevel 2; retentionTime ; scanNum       2     3         3       TRUE   \n",
       "3  msLevel 2; retentionTime ; scanNum       2     4         4       TRUE   \n",
       "4  msLevel 2; retentionTime ; scanNum       2     5         5       TRUE   \n",
       "\n",
       "  polarity precscannum               pepmass  ...    basepeakmz  \\\n",
       "0        0           1  (112.98553637, None)  ...   68.99723544   \n",
       "1        0           2  (112.98557467, None)  ...   45.00066804   \n",
       "2        0           3  (112.98557452, None)  ...   44.99716261   \n",
       "3        0           4  (112.98552874, None)  ...   44.99853363   \n",
       "4        0           5  (129.05574413, None)  ...  129.05973069   \n",
       "\n",
       "  basepeakintensity ionisationenergy         lowmz       highmz injectiontime  \\\n",
       "0               656                0   68.99723544  68.99723544             0   \n",
       "1               268                0   45.00066804  45.00066804             0   \n",
       "2               314                0   44.99716261  44.99716261             0   \n",
       "3               266                0   44.99853363  44.99853363             0   \n",
       "4               220                0  129.05973069  519.2963068             0   \n",
       "\n",
       "  feature_id retention_time collision_energy precursor_mz  \n",
       "0        FT1       247.3932               10   112.985536  \n",
       "1        FT2       377.1270               20   112.985575  \n",
       "2        FT3       258.8022               30   112.985575  \n",
       "3        FT4       278.4588               40   112.985529  \n",
       "4        FT5       172.1430               10   129.055744  \n",
       "\n",
       "[5 rows x 23 columns]"
      ]
     },
     "execution_count": 84,
     "metadata": {},
     "output_type": "execute_result"
    }
   ],
   "source": [
    "Q.head()"
   ]
  },
  {
   "cell_type": "code",
   "execution_count": 85,
   "metadata": {},
   "outputs": [],
   "source": [
    "# Define plot colors\n",
    "color_palette = sns.light_palette(\"seagreen\", 5)\n",
    "default_color = color_palette[-1]"
   ]
  },
  {
   "cell_type": "code",
   "execution_count": 86,
   "metadata": {},
   "outputs": [
    {
     "data": {
      "text/plain": [
       "Index(['spectrum', 'library', 'pepmass', 'charge', 'mslevel',\n",
       "       'source_instrument', 'seq', 'ionmode', 'organism', 'smiles', 'inchi',\n",
       "       'inchiaux', 'pubmed', 'libraryquality', 'scans', 'file_name',\n",
       "       'compound_name', 'principal_investigator', 'data_collector',\n",
       "       'submit_user', 'spectrum_id', 'precursor_mz'],\n",
       "      dtype='object')"
      ]
     },
     "execution_count": 86,
     "metadata": {},
     "output_type": "execute_result"
    }
   ],
   "source": [
    "R.columns\n"
   ]
  },
  {
   "cell_type": "code",
   "execution_count": 87,
   "metadata": {},
   "outputs": [
    {
     "data": {
      "image/png": "[encoded data removed]",
      "text/plain": [
       "<Figure size 921.6x460.8 with 2 Axes>"
      ]
     },
     "metadata": {
      "needs_background": "light"
     },
     "output_type": "display_data"
    }
   ],
   "source": [
    "fig, axs = plt.subplots(1, 2, figsize=(12.8, 6.4), gridspec_kw={'width_ratios': [1, 1]}, sharey=True)\n",
    "for ax in axs:\n",
    "    ax.tick_params('x', labelrotation=45)\n",
    "\n",
    "sns.boxplot(ax=axs[0], data=Q, y='precursor_mz', palette=color_palette, x=\"collision_energy\")\n",
    "sns.boxplot(ax=axs[1], data=R, y='precursor_mz', palette=color_palette, x=\"ionmode\")\n",
    "\n",
    "axs[0].set_title(\"Query library\")\n",
    "axs[1].set_title(\"Reference library\")\n",
    "plt.show()"
   ]
  },
  {
   "cell_type": "markdown",
   "metadata": {},
   "source": [
    "Retention Times"
   ]
  },
  {
   "cell_type": "code",
   "execution_count": null,
   "metadata": {},
   "outputs": [],
   "source": []
  },
  {
   "cell_type": "markdown",
   "metadata": {},
   "source": [
    "Examine peak counts"
   ]
  },
  {
   "cell_type": "code",
   "execution_count": 88,
   "metadata": {},
   "outputs": [],
   "source": [
    "Q[\"peak_count\"] = Q[\"spectrum\"].apply(lambda x: len(x.peaks))\n",
    "Q[\"totioncurrent\"] = Q[\"spectrum\"].apply(lambda x: sum(x.peaks.intensities))\n",
    "Q[\"log_totioncurrent\"] = Q[\"totioncurrent\"].apply(np.log) \n",
    "\n",
    "R[\"peak_count\"] = R[\"spectrum\"].apply(lambda x: len(x.peaks))\n",
    "R[\"totioncurrent\"] = R[\"spectrum\"].apply(lambda x: sum(x.peaks.intensities))\n",
    "R[\"log_totioncurrent\"] = R[\"totioncurrent\"].apply(np.log) \n",
    "\n",
    "\n",
    "\n"
   ]
  },
  {
   "cell_type": "code",
   "execution_count": 89,
   "metadata": {},
   "outputs": [
    {
     "data": {
      "image/png": "[encoded data removed]",
      "text/plain": [
       "<Figure size 921.6x460.8 with 2 Axes>"
      ]
     },
     "metadata": {
      "needs_background": "light"
     },
     "output_type": "display_data"
    }
   ],
   "source": [
    "\n",
    "fig, axs = plt.subplots(1, 2, figsize=(12.8, 6.4), gridspec_kw={'width_ratios': [1, 1]}, sharey=False)\n",
    "for ax in axs:\n",
    "    ax.tick_params('x', labelrotation=45)\n",
    "    ax.set_xlabel(\"Peak count\")\n",
    "\n",
    "sns.histplot(ax=axs[0], data=Q, x='peak_count', color=default_color, binwidth=5, binrange=[0, 150])\n",
    "sns.histplot(ax=axs[1], data=R, x='peak_count', color=default_color, binwidth=5, binrange=[0, 150])\n",
    "\n",
    "axs[0].set_title(\"Query Library\")\n",
    "axs[1].set_title(\"Reference Library\")\n",
    "plt.show()"
   ]
  },
  {
   "cell_type": "code",
   "execution_count": 90,
   "metadata": {},
   "outputs": [
    {
     "data": {
      "text/plain": [
       "<AxesSubplot: xlabel='log_totioncurrent', ylabel='Count'>"
      ]
     },
     "execution_count": 90,
     "metadata": {},
     "output_type": "execute_result"
    },
    {
     "data": {
      "image/png": "[encoded data removed]",
      "text/plain": [
       "<Figure size 432x288 with 1 Axes>"
      ]
     },
     "metadata": {
      "needs_background": "light"
     },
     "output_type": "display_data"
    }
   ],
   "source": [
    "#Q[\"totioncurrent\"] = Q[\"totioncurrent\"].astype(int)\n",
    "Q[\"log_totioncurrent\"] = Q[\"totioncurrent\"].apply(np.log)\n",
    "sns.histplot(R, x=\"log_totioncurrent\", color=default_color)\n",
    "#Q[\"totioncurrent\"]"
   ]
  },
  {
   "cell_type": "code",
   "execution_count": 96,
   "metadata": {},
   "outputs": [],
   "source": [
    "R[\"name\"] = R[\"compound_name\"].apply(lambda x: \" \".join(x.split(\" \")[:-1]))\n",
    "R[\"ionisation\"] = R[\"compound_name\"].apply(lambda x: x.split(\" \")[-1])"
   ]
  },
  {
   "cell_type": "code",
   "execution_count": 97,
   "metadata": {},
   "outputs": [
    {
     "data": {
      "text/plain": [
       "M+H            8259\n",
       "M-H            1471\n",
       "M+Na           1325\n",
       "M+NH4           204\n",
       "M-H2O+H         203\n",
       "               ... \n",
       "iso-C11           1\n",
       "M-HAc             1\n",
       "n-C12             1\n",
       "anteiso-C11       1\n",
       "MS34+Na           1\n",
       "Name: ionisation, Length: 82, dtype: int64"
      ]
     },
     "execution_count": 97,
     "metadata": {},
     "output_type": "execute_result"
    }
   ],
   "source": [
    "\n",
    "R[\"ionisation\"].value_counts()"
   ]
  },
  {
   "cell_type": "code",
   "execution_count": 100,
   "metadata": {},
   "outputs": [
    {
     "data": {
      "text/plain": [
       "                                                                                                         1668\n",
       "N/A                                                                                                       432\n",
       "C1=CC=[N+](C(=C1)CCCCCCCC=O)CCCCCC=O                                                                       20\n",
       "OC(=O)CC1=CNC2=C1C=CC=C2                                                                                   18\n",
       "NCCCCN                                                                                                     14\n",
       "                                                                                                         ... \n",
       "CC(=O)NC1=C2C(=CSS2)NC1=O                                                                                   1\n",
       "CC(=O)NC1=C2C(=CSS2)N(C1=O)C                                                                                1\n",
       "CC(C)CCCCCCCCC=CC(=O)NC1C(C(C(OC1OC2C(C(C(C(O2)CO)O)O)NC(=O)C)CC(C3C(C(C(O3)N4C=CC(=O)NC4=O)O)O)O)O)O       1\n",
       "CCCCCCCCC/C=C/C(NC1C(O)C(O)C(CC(O)C2C(O)C(O)C(N3C=CC(NC3=O)=O)O2)OC1OC4C(NC(C)=O)C(O)C(O)C(CO)O4)=O         1\n",
       "O=C(C1=CC=CC=C1)N(CCN(C(C2=CC=CC=C2)=O)CC[NH+](C(C3=CC=CC=C3)=O)CC)CCNCC                                    1\n",
       "Name: smiles, Length: 3860, dtype: int64"
      ]
     },
     "execution_count": 100,
     "metadata": {},
     "output_type": "execute_result"
    }
   ],
   "source": [
    "\n",
    "sum(R[R.ionisation == 'M+H'][\"smiles\"].value_counts()[2:] > 3 )"
   ]
  },
  {
   "cell_type": "code",
   "execution_count": 93,
   "metadata": {},
   "outputs": [
    {
     "data": {
      "text/plain": [
       "Index(['spectrum', 'library', 'pepmass', 'charge', 'mslevel',\n",
       "       'source_instrument', 'seq', 'ionmode', 'organism', 'smiles', 'inchi',\n",
       "       'inchiaux', 'pubmed', 'libraryquality', 'scans', 'file_name',\n",
       "       'compound_name', 'principal_investigator', 'data_collector',\n",
       "       'submit_user', 'spectrum_id', 'precursor_mz', 'peak_count',\n",
       "       'totioncurrent', 'log_totioncurrent', 'name'],\n",
       "      dtype='object')"
      ]
     },
     "execution_count": 93,
     "metadata": {},
     "output_type": "execute_result"
    }
   ],
   "source": [
    "R.columns"
   ]
  },
  {
   "cell_type": "code",
   "execution_count": null,
   "metadata": {},
   "outputs": [],
   "source": []
  }
 ],
 "metadata": {
  "kernelspec": {
   "display_name": "hackaton",
   "language": "python",
   "name": "python3"
  },
  "language_info": {
   "codemirror_mode": {
    "name": "ipython",
    "version": 3
   },
   "file_extension": ".py",
   "mimetype": "text/x-python",
   "name": "python",
   "nbconvert_exporter": "python",
   "pygments_lexer": "ipython3",
   "version": "3.10.8"
  },
  "vscode": {
   "interpreter": {
    "hash": "46d69f6bf39ea1d565f8b8b931b2c22b8881283162faa788f1d71484b93e46fe"
   }
  }
 },
 "nbformat": 4,
 "nbformat_minor": 2
}
